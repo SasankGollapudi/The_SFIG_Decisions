{
 "cells": [
  {
   "cell_type": "code",
   "execution_count": 1,
   "metadata": {},
   "outputs": [],
   "source": [
    "# Import packages and load the Data\n",
    "import numpy as np\n",
    "import pandas as pd\n",
    "import seaborn as sns\n",
    "import matplotlib.pyplot as plt\n",
    "from sklearn.preprocessing import MinMaxScaler\n",
    "from sklearn.linear_model import LogisticRegression\n",
    "from xgboost import XGBClassifier\n",
    "from sklearn.model_selection import train_test_split\n",
    "from sklearn.metrics import accuracy_score,confusion_matrix\n",
    "df = pd.read_csv('Training_Data.csv')"
   ]
  },
  {
   "cell_type": "code",
   "execution_count": 2,
   "metadata": {},
   "outputs": [
    {
     "data": {
      "text/html": [
       "<div>\n",
       "<style scoped>\n",
       "    .dataframe tbody tr th:only-of-type {\n",
       "        vertical-align: middle;\n",
       "    }\n",
       "\n",
       "    .dataframe tbody tr th {\n",
       "        vertical-align: top;\n",
       "    }\n",
       "\n",
       "    .dataframe thead th {\n",
       "        text-align: right;\n",
       "    }\n",
       "</style>\n",
       "<table border=\"1\" class=\"dataframe\">\n",
       "  <thead>\n",
       "    <tr style=\"text-align: right;\">\n",
       "      <th></th>\n",
       "      <th>age</th>\n",
       "      <th>weight</th>\n",
       "      <th>bmi</th>\n",
       "      <th>blood_pressure</th>\n",
       "      <th>insulin_test</th>\n",
       "      <th>liver_stress_test</th>\n",
       "      <th>cardio_stress_test</th>\n",
       "      <th>years_smoking</th>\n",
       "      <th>zeta_disease</th>\n",
       "    </tr>\n",
       "  </thead>\n",
       "  <tbody>\n",
       "    <tr>\n",
       "      <th>0</th>\n",
       "      <td>54</td>\n",
       "      <td>189</td>\n",
       "      <td>27.1</td>\n",
       "      <td>80</td>\n",
       "      <td>0</td>\n",
       "      <td>1.5038</td>\n",
       "      <td>0</td>\n",
       "      <td>10</td>\n",
       "      <td>0</td>\n",
       "    </tr>\n",
       "    <tr>\n",
       "      <th>1</th>\n",
       "      <td>23</td>\n",
       "      <td>150</td>\n",
       "      <td>38.5</td>\n",
       "      <td>68</td>\n",
       "      <td>71</td>\n",
       "      <td>0.3868</td>\n",
       "      <td>55</td>\n",
       "      <td>2</td>\n",
       "      <td>0</td>\n",
       "    </tr>\n",
       "    <tr>\n",
       "      <th>2</th>\n",
       "      <td>47</td>\n",
       "      <td>186</td>\n",
       "      <td>29.9</td>\n",
       "      <td>90</td>\n",
       "      <td>0</td>\n",
       "      <td>0.2728</td>\n",
       "      <td>0</td>\n",
       "      <td>7</td>\n",
       "      <td>0</td>\n",
       "    </tr>\n",
       "    <tr>\n",
       "      <th>3</th>\n",
       "      <td>18</td>\n",
       "      <td>150</td>\n",
       "      <td>30.8</td>\n",
       "      <td>70</td>\n",
       "      <td>1033</td>\n",
       "      <td>0.6598</td>\n",
       "      <td>56</td>\n",
       "      <td>0</td>\n",
       "      <td>0</td>\n",
       "    </tr>\n",
       "    <tr>\n",
       "      <th>4</th>\n",
       "      <td>24</td>\n",
       "      <td>160</td>\n",
       "      <td>32.4</td>\n",
       "      <td>74</td>\n",
       "      <td>125</td>\n",
       "      <td>0.7608</td>\n",
       "      <td>59</td>\n",
       "      <td>2</td>\n",
       "      <td>0</td>\n",
       "    </tr>\n",
       "  </tbody>\n",
       "</table>\n",
       "</div>"
      ],
      "text/plain": [
       "   age  weight   bmi  blood_pressure  insulin_test  liver_stress_test  \\\n",
       "0   54     189  27.1              80             0             1.5038   \n",
       "1   23     150  38.5              68            71             0.3868   \n",
       "2   47     186  29.9              90             0             0.2728   \n",
       "3   18     150  30.8              70          1033             0.6598   \n",
       "4   24     160  32.4              74           125             0.7608   \n",
       "\n",
       "   cardio_stress_test  years_smoking  zeta_disease  \n",
       "0                   0             10             0  \n",
       "1                  55              2             0  \n",
       "2                   0              7             0  \n",
       "3                  56              0             0  \n",
       "4                  59              2             0  "
      ]
     },
     "execution_count": 2,
     "metadata": {},
     "output_type": "execute_result"
    }
   ],
   "source": [
    "#To get a glimpse of headings and number of columns\n",
    "df.head()"
   ]
  },
  {
   "cell_type": "code",
   "execution_count": 3,
   "metadata": {},
   "outputs": [
    {
     "data": {
      "text/plain": [
       "Index(['age', 'weight', 'bmi', 'blood_pressure', 'insulin_test',\n",
       "       'liver_stress_test', 'cardio_stress_test', 'years_smoking',\n",
       "       'zeta_disease'],\n",
       "      dtype='object')"
      ]
     },
     "execution_count": 3,
     "metadata": {},
     "output_type": "execute_result"
    }
   ],
   "source": [
    "#To get the number of columns\n",
    "df.columns"
   ]
  },
  {
   "cell_type": "code",
   "execution_count": 4,
   "metadata": {},
   "outputs": [
    {
     "data": {
      "text/html": [
       "<div>\n",
       "<style scoped>\n",
       "    .dataframe tbody tr th:only-of-type {\n",
       "        vertical-align: middle;\n",
       "    }\n",
       "\n",
       "    .dataframe tbody tr th {\n",
       "        vertical-align: top;\n",
       "    }\n",
       "\n",
       "    .dataframe thead th {\n",
       "        text-align: right;\n",
       "    }\n",
       "</style>\n",
       "<table border=\"1\" class=\"dataframe\">\n",
       "  <thead>\n",
       "    <tr style=\"text-align: right;\">\n",
       "      <th></th>\n",
       "      <th>age</th>\n",
       "      <th>weight</th>\n",
       "      <th>bmi</th>\n",
       "      <th>blood_pressure</th>\n",
       "      <th>insulin_test</th>\n",
       "      <th>liver_stress_test</th>\n",
       "      <th>cardio_stress_test</th>\n",
       "      <th>years_smoking</th>\n",
       "      <th>zeta_disease</th>\n",
       "    </tr>\n",
       "  </thead>\n",
       "  <tbody>\n",
       "    <tr>\n",
       "      <th>count</th>\n",
       "      <td>800.000000</td>\n",
       "      <td>800.000000</td>\n",
       "      <td>800.000000</td>\n",
       "      <td>800.000000</td>\n",
       "      <td>800.000000</td>\n",
       "      <td>800.000000</td>\n",
       "      <td>800.000000</td>\n",
       "      <td>800.000000</td>\n",
       "      <td>800.000000</td>\n",
       "    </tr>\n",
       "    <tr>\n",
       "      <th>mean</th>\n",
       "      <td>30.985000</td>\n",
       "      <td>172.407500</td>\n",
       "      <td>32.201625</td>\n",
       "      <td>69.565000</td>\n",
       "      <td>85.887500</td>\n",
       "      <td>0.544496</td>\n",
       "      <td>43.121250</td>\n",
       "      <td>4.051250</td>\n",
       "      <td>0.348750</td>\n",
       "    </tr>\n",
       "    <tr>\n",
       "      <th>std</th>\n",
       "      <td>13.824025</td>\n",
       "      <td>31.942438</td>\n",
       "      <td>8.549155</td>\n",
       "      <td>19.874784</td>\n",
       "      <td>126.333656</td>\n",
       "      <td>0.348711</td>\n",
       "      <td>30.409949</td>\n",
       "      <td>4.176173</td>\n",
       "      <td>0.476873</td>\n",
       "    </tr>\n",
       "    <tr>\n",
       "      <th>min</th>\n",
       "      <td>18.000000</td>\n",
       "      <td>94.000000</td>\n",
       "      <td>0.000000</td>\n",
       "      <td>0.000000</td>\n",
       "      <td>0.000000</td>\n",
       "      <td>0.140800</td>\n",
       "      <td>0.000000</td>\n",
       "      <td>0.000000</td>\n",
       "      <td>0.000000</td>\n",
       "    </tr>\n",
       "    <tr>\n",
       "      <th>25%</th>\n",
       "      <td>21.000000</td>\n",
       "      <td>149.000000</td>\n",
       "      <td>27.300000</td>\n",
       "      <td>62.000000</td>\n",
       "      <td>0.000000</td>\n",
       "      <td>0.307800</td>\n",
       "      <td>0.000000</td>\n",
       "      <td>1.000000</td>\n",
       "      <td>0.000000</td>\n",
       "    </tr>\n",
       "    <tr>\n",
       "      <th>50%</th>\n",
       "      <td>26.000000</td>\n",
       "      <td>167.000000</td>\n",
       "      <td>32.050000</td>\n",
       "      <td>72.000000</td>\n",
       "      <td>45.000000</td>\n",
       "      <td>0.445300</td>\n",
       "      <td>53.000000</td>\n",
       "      <td>3.000000</td>\n",
       "      <td>0.000000</td>\n",
       "    </tr>\n",
       "    <tr>\n",
       "      <th>75%</th>\n",
       "      <td>38.000000</td>\n",
       "      <td>192.000000</td>\n",
       "      <td>36.525000</td>\n",
       "      <td>80.000000</td>\n",
       "      <td>130.000000</td>\n",
       "      <td>0.699800</td>\n",
       "      <td>62.000000</td>\n",
       "      <td>6.000000</td>\n",
       "      <td>1.000000</td>\n",
       "    </tr>\n",
       "    <tr>\n",
       "      <th>max</th>\n",
       "      <td>109.000000</td>\n",
       "      <td>308.000000</td>\n",
       "      <td>86.100000</td>\n",
       "      <td>157.000000</td>\n",
       "      <td>1077.000000</td>\n",
       "      <td>3.481300</td>\n",
       "      <td>214.000000</td>\n",
       "      <td>40.000000</td>\n",
       "      <td>1.000000</td>\n",
       "    </tr>\n",
       "  </tbody>\n",
       "</table>\n",
       "</div>"
      ],
      "text/plain": [
       "              age      weight         bmi  blood_pressure  insulin_test  \\\n",
       "count  800.000000  800.000000  800.000000      800.000000    800.000000   \n",
       "mean    30.985000  172.407500   32.201625       69.565000     85.887500   \n",
       "std     13.824025   31.942438    8.549155       19.874784    126.333656   \n",
       "min     18.000000   94.000000    0.000000        0.000000      0.000000   \n",
       "25%     21.000000  149.000000   27.300000       62.000000      0.000000   \n",
       "50%     26.000000  167.000000   32.050000       72.000000     45.000000   \n",
       "75%     38.000000  192.000000   36.525000       80.000000    130.000000   \n",
       "max    109.000000  308.000000   86.100000      157.000000   1077.000000   \n",
       "\n",
       "       liver_stress_test  cardio_stress_test  years_smoking  zeta_disease  \n",
       "count         800.000000          800.000000     800.000000    800.000000  \n",
       "mean            0.544496           43.121250       4.051250      0.348750  \n",
       "std             0.348711           30.409949       4.176173      0.476873  \n",
       "min             0.140800            0.000000       0.000000      0.000000  \n",
       "25%             0.307800            0.000000       1.000000      0.000000  \n",
       "50%             0.445300           53.000000       3.000000      0.000000  \n",
       "75%             0.699800           62.000000       6.000000      1.000000  \n",
       "max             3.481300          214.000000      40.000000      1.000000  "
      ]
     },
     "execution_count": 4,
     "metadata": {},
     "output_type": "execute_result"
    }
   ],
   "source": [
    "#Distribution details of DataFrame columns\n",
    "df.describe()"
   ]
  },
  {
   "cell_type": "code",
   "execution_count": 5,
   "metadata": {},
   "outputs": [
    {
     "data": {
      "text/plain": [
       "(800, 9)"
      ]
     },
     "execution_count": 5,
     "metadata": {},
     "output_type": "execute_result"
    }
   ],
   "source": [
    "#To get the number of rows and columns\n",
    "df.shape"
   ]
  },
  {
   "cell_type": "code",
   "execution_count": 6,
   "metadata": {},
   "outputs": [],
   "source": [
    "#First remove the duplicate records if any available in the data sheet\n",
    "df = df.drop_duplicates()"
   ]
  },
  {
   "cell_type": "code",
   "execution_count": 7,
   "metadata": {},
   "outputs": [
    {
     "data": {
      "text/plain": [
       "(795, 9)"
      ]
     },
     "execution_count": 7,
     "metadata": {},
     "output_type": "execute_result"
    }
   ],
   "source": [
    "#Post deleting the duplicate check the DF shape once again\n",
    "df.shape\n",
    "#observed 5 duplicate rows"
   ]
  },
  {
   "cell_type": "code",
   "execution_count": 8,
   "metadata": {},
   "outputs": [
    {
     "data": {
      "text/plain": [
       "age                   0\n",
       "weight                0\n",
       "bmi                   0\n",
       "blood_pressure        0\n",
       "insulin_test          0\n",
       "liver_stress_test     0\n",
       "cardio_stress_test    0\n",
       "years_smoking         0\n",
       "zeta_disease          0\n",
       "dtype: int64"
      ]
     },
     "execution_count": 8,
     "metadata": {},
     "output_type": "execute_result"
    }
   ],
   "source": [
    "#Observe if any null values found by column\n",
    "df.isnull().sum()\n",
    "#Observed No Null Values"
   ]
  },
  {
   "cell_type": "code",
   "execution_count": 9,
   "metadata": {},
   "outputs": [
    {
     "data": {
      "text/plain": [
       "0    517\n",
       "1    278\n",
       "Name: zeta_disease, dtype: int64"
      ]
     },
     "execution_count": 9,
     "metadata": {},
     "output_type": "execute_result"
    }
   ],
   "source": [
    "#To check the class distribution on Target Variable-- In this case there is no need to work on Undersampling or Over sampling\n",
    "df.zeta_disease.value_counts()"
   ]
  },
  {
   "cell_type": "code",
   "execution_count": 10,
   "metadata": {},
   "outputs": [
    {
     "data": {
      "text/plain": [
       "age                     0\n",
       "weight                  0\n",
       "bmi                    11\n",
       "blood_pressure         35\n",
       "insulin_test          370\n",
       "liver_stress_test       0\n",
       "cardio_stress_test    227\n",
       "years_smoking         114\n",
       "dtype: int64"
      ]
     },
     "execution_count": 10,
     "metadata": {},
     "output_type": "execute_result"
    }
   ],
   "source": [
    "#Handling 0's (zeros) in the data for few columns like Blood_Pressure for example, which cannot be 0 (Zero)\n",
    "(df[[\"age\",\"weight\",\"bmi\",\"blood_pressure\",\"insulin_test\",\"liver_stress_test\",\"cardio_stress_test\",\"years_smoking\"]] == 0).sum()"
   ]
  },
  {
   "cell_type": "code",
   "execution_count": 11,
   "metadata": {},
   "outputs": [],
   "source": [
    "# From the above count of Zeros by column replacing 0's with Mean and Median values accordingly\n",
    "#1.Bmi and Blood Pressure replaced with Mean value(due to less count share)\n",
    "#2.Insulin_Test,Cardio_Stress_Test,years_smoking replaced with Median value as we have more than 25% of values with zero's and might have outliers."
   ]
  },
  {
   "cell_type": "code",
   "execution_count": 12,
   "metadata": {},
   "outputs": [
    {
     "name": "stdout",
     "output_type": "stream",
     "text": [
      "bmi               32.0\n",
      "blood_pressure    70.0\n",
      "dtype: float64\n"
     ]
    }
   ],
   "source": [
    "Mean_Values = round(df[['bmi','blood_pressure']].mean(skipna=True),)\n",
    "print (Mean_Values)"
   ]
  },
  {
   "cell_type": "code",
   "execution_count": 13,
   "metadata": {},
   "outputs": [
    {
     "name": "stdout",
     "output_type": "stream",
     "text": [
      "insulin_test          45.0\n",
      "cardio_stress_test    53.0\n",
      "years_smoking          3.0\n",
      "dtype: float64\n"
     ]
    }
   ],
   "source": [
    "Median_Values = round(df[['insulin_test','cardio_stress_test','years_smoking']].median(skipna=True),)\n",
    "print (Median_Values)"
   ]
  },
  {
   "cell_type": "code",
   "execution_count": 14,
   "metadata": {},
   "outputs": [],
   "source": [
    "#Implementing the Mean and Median values on the Data Frame\n",
    "df1 = df.replace(0,Mean_Values)"
   ]
  },
  {
   "cell_type": "code",
   "execution_count": 15,
   "metadata": {},
   "outputs": [],
   "source": [
    "df2 = df1.replace(0,Median_Values)"
   ]
  },
  {
   "cell_type": "code",
   "execution_count": 16,
   "metadata": {},
   "outputs": [],
   "source": [
    "df = df2"
   ]
  },
  {
   "cell_type": "code",
   "execution_count": 17,
   "metadata": {},
   "outputs": [
    {
     "data": {
      "text/html": [
       "<div>\n",
       "<style scoped>\n",
       "    .dataframe tbody tr th:only-of-type {\n",
       "        vertical-align: middle;\n",
       "    }\n",
       "\n",
       "    .dataframe tbody tr th {\n",
       "        vertical-align: top;\n",
       "    }\n",
       "\n",
       "    .dataframe thead th {\n",
       "        text-align: right;\n",
       "    }\n",
       "</style>\n",
       "<table border=\"1\" class=\"dataframe\">\n",
       "  <thead>\n",
       "    <tr style=\"text-align: right;\">\n",
       "      <th></th>\n",
       "      <th>age</th>\n",
       "      <th>weight</th>\n",
       "      <th>bmi</th>\n",
       "      <th>blood_pressure</th>\n",
       "      <th>insulin_test</th>\n",
       "      <th>liver_stress_test</th>\n",
       "      <th>cardio_stress_test</th>\n",
       "      <th>years_smoking</th>\n",
       "      <th>zeta_disease</th>\n",
       "    </tr>\n",
       "  </thead>\n",
       "  <tbody>\n",
       "    <tr>\n",
       "      <th>count</th>\n",
       "      <td>795.000000</td>\n",
       "      <td>795.000000</td>\n",
       "      <td>795.000000</td>\n",
       "      <td>795.000000</td>\n",
       "      <td>795.000000</td>\n",
       "      <td>795.000000</td>\n",
       "      <td>795.000000</td>\n",
       "      <td>795.000000</td>\n",
       "      <td>795.000000</td>\n",
       "    </tr>\n",
       "    <tr>\n",
       "      <th>mean</th>\n",
       "      <td>30.636478</td>\n",
       "      <td>172.376101</td>\n",
       "      <td>32.673333</td>\n",
       "      <td>72.649057</td>\n",
       "      <td>106.849057</td>\n",
       "      <td>0.543723</td>\n",
       "      <td>58.200000</td>\n",
       "      <td>4.486792</td>\n",
       "      <td>0.349686</td>\n",
       "    </tr>\n",
       "    <tr>\n",
       "      <th>std</th>\n",
       "      <td>12.861397</td>\n",
       "      <td>31.686964</td>\n",
       "      <td>7.665968</td>\n",
       "      <td>13.193154</td>\n",
       "      <td>113.803821</td>\n",
       "      <td>0.348124</td>\n",
       "      <td>14.093123</td>\n",
       "      <td>3.880879</td>\n",
       "      <td>0.477171</td>\n",
       "    </tr>\n",
       "    <tr>\n",
       "      <th>min</th>\n",
       "      <td>18.000000</td>\n",
       "      <td>94.000000</td>\n",
       "      <td>18.200000</td>\n",
       "      <td>24.000000</td>\n",
       "      <td>14.000000</td>\n",
       "      <td>0.140800</td>\n",
       "      <td>37.000000</td>\n",
       "      <td>1.000000</td>\n",
       "      <td>0.000000</td>\n",
       "    </tr>\n",
       "    <tr>\n",
       "      <th>25%</th>\n",
       "      <td>21.000000</td>\n",
       "      <td>150.000000</td>\n",
       "      <td>27.550000</td>\n",
       "      <td>64.000000</td>\n",
       "      <td>45.000000</td>\n",
       "      <td>0.307800</td>\n",
       "      <td>53.000000</td>\n",
       "      <td>2.000000</td>\n",
       "      <td>0.000000</td>\n",
       "    </tr>\n",
       "    <tr>\n",
       "      <th>50%</th>\n",
       "      <td>26.000000</td>\n",
       "      <td>167.000000</td>\n",
       "      <td>32.200000</td>\n",
       "      <td>72.000000</td>\n",
       "      <td>45.000000</td>\n",
       "      <td>0.444800</td>\n",
       "      <td>53.000000</td>\n",
       "      <td>3.000000</td>\n",
       "      <td>0.000000</td>\n",
       "    </tr>\n",
       "    <tr>\n",
       "      <th>75%</th>\n",
       "      <td>38.000000</td>\n",
       "      <td>192.000000</td>\n",
       "      <td>36.600000</td>\n",
       "      <td>80.000000</td>\n",
       "      <td>130.000000</td>\n",
       "      <td>0.699800</td>\n",
       "      <td>62.000000</td>\n",
       "      <td>6.000000</td>\n",
       "      <td>1.000000</td>\n",
       "    </tr>\n",
       "    <tr>\n",
       "      <th>max</th>\n",
       "      <td>109.000000</td>\n",
       "      <td>308.000000</td>\n",
       "      <td>86.100000</td>\n",
       "      <td>157.000000</td>\n",
       "      <td>1077.000000</td>\n",
       "      <td>3.481300</td>\n",
       "      <td>214.000000</td>\n",
       "      <td>40.000000</td>\n",
       "      <td>1.000000</td>\n",
       "    </tr>\n",
       "  </tbody>\n",
       "</table>\n",
       "</div>"
      ],
      "text/plain": [
       "              age      weight         bmi  blood_pressure  insulin_test  \\\n",
       "count  795.000000  795.000000  795.000000      795.000000    795.000000   \n",
       "mean    30.636478  172.376101   32.673333       72.649057    106.849057   \n",
       "std     12.861397   31.686964    7.665968       13.193154    113.803821   \n",
       "min     18.000000   94.000000   18.200000       24.000000     14.000000   \n",
       "25%     21.000000  150.000000   27.550000       64.000000     45.000000   \n",
       "50%     26.000000  167.000000   32.200000       72.000000     45.000000   \n",
       "75%     38.000000  192.000000   36.600000       80.000000    130.000000   \n",
       "max    109.000000  308.000000   86.100000      157.000000   1077.000000   \n",
       "\n",
       "       liver_stress_test  cardio_stress_test  years_smoking  zeta_disease  \n",
       "count         795.000000          795.000000     795.000000    795.000000  \n",
       "mean            0.543723           58.200000       4.486792      0.349686  \n",
       "std             0.348124           14.093123       3.880879      0.477171  \n",
       "min             0.140800           37.000000       1.000000      0.000000  \n",
       "25%             0.307800           53.000000       2.000000      0.000000  \n",
       "50%             0.444800           53.000000       3.000000      0.000000  \n",
       "75%             0.699800           62.000000       6.000000      1.000000  \n",
       "max             3.481300          214.000000      40.000000      1.000000  "
      ]
     },
     "execution_count": 17,
     "metadata": {},
     "output_type": "execute_result"
    }
   ],
   "source": [
    "#Now we have new values for Min value and the Mean\n",
    "df.describe()"
   ]
  },
  {
   "cell_type": "code",
   "execution_count": 18,
   "metadata": {},
   "outputs": [],
   "source": [
    "def remove_outliers(df, column_name, *args):\n",
    "    low = np.quantile(df[column_name], 0.05)\n",
    "    high = np.quantile(df[column_name], 0.99)\n",
    "    return df[df[column_name].between(low, high, inclusive=True)] "
   ]
  },
  {
   "cell_type": "code",
   "execution_count": 19,
   "metadata": {},
   "outputs": [],
   "source": [
    "# Outlier cleaning implementation\n",
    "df_new2 = (df.pipe(remove_outliers,'age','weight','bmi','blood_pressure','insulin_test','liver_stress_test','cardio_stress_test','years_smoking'))"
   ]
  },
  {
   "cell_type": "code",
   "execution_count": 20,
   "metadata": {},
   "outputs": [
    {
     "data": {
      "text/html": [
       "<div>\n",
       "<style scoped>\n",
       "    .dataframe tbody tr th:only-of-type {\n",
       "        vertical-align: middle;\n",
       "    }\n",
       "\n",
       "    .dataframe tbody tr th {\n",
       "        vertical-align: top;\n",
       "    }\n",
       "\n",
       "    .dataframe thead th {\n",
       "        text-align: right;\n",
       "    }\n",
       "</style>\n",
       "<table border=\"1\" class=\"dataframe\">\n",
       "  <thead>\n",
       "    <tr style=\"text-align: right;\">\n",
       "      <th></th>\n",
       "      <th>age</th>\n",
       "      <th>weight</th>\n",
       "      <th>bmi</th>\n",
       "      <th>blood_pressure</th>\n",
       "      <th>insulin_test</th>\n",
       "      <th>liver_stress_test</th>\n",
       "      <th>cardio_stress_test</th>\n",
       "      <th>years_smoking</th>\n",
       "      <th>zeta_disease</th>\n",
       "    </tr>\n",
       "  </thead>\n",
       "  <tbody>\n",
       "    <tr>\n",
       "      <th>count</th>\n",
       "      <td>788.000000</td>\n",
       "      <td>788.000000</td>\n",
       "      <td>788.000000</td>\n",
       "      <td>788.000000</td>\n",
       "      <td>788.000000</td>\n",
       "      <td>788.000000</td>\n",
       "      <td>788.000000</td>\n",
       "      <td>788.000000</td>\n",
       "      <td>788.000000</td>\n",
       "    </tr>\n",
       "    <tr>\n",
       "      <th>mean</th>\n",
       "      <td>30.111675</td>\n",
       "      <td>172.445431</td>\n",
       "      <td>32.720685</td>\n",
       "      <td>72.634518</td>\n",
       "      <td>107.200508</td>\n",
       "      <td>0.543029</td>\n",
       "      <td>58.237310</td>\n",
       "      <td>4.489848</td>\n",
       "      <td>0.350254</td>\n",
       "    </tr>\n",
       "    <tr>\n",
       "      <th>std</th>\n",
       "      <td>11.539456</td>\n",
       "      <td>31.698882</td>\n",
       "      <td>7.672735</td>\n",
       "      <td>13.241801</td>\n",
       "      <td>114.190273</td>\n",
       "      <td>0.347677</td>\n",
       "      <td>14.142343</td>\n",
       "      <td>3.880836</td>\n",
       "      <td>0.477352</td>\n",
       "    </tr>\n",
       "    <tr>\n",
       "      <th>min</th>\n",
       "      <td>18.000000</td>\n",
       "      <td>94.000000</td>\n",
       "      <td>18.200000</td>\n",
       "      <td>24.000000</td>\n",
       "      <td>14.000000</td>\n",
       "      <td>0.140800</td>\n",
       "      <td>37.000000</td>\n",
       "      <td>1.000000</td>\n",
       "      <td>0.000000</td>\n",
       "    </tr>\n",
       "    <tr>\n",
       "      <th>25%</th>\n",
       "      <td>21.000000</td>\n",
       "      <td>150.000000</td>\n",
       "      <td>27.600000</td>\n",
       "      <td>64.000000</td>\n",
       "      <td>45.000000</td>\n",
       "      <td>0.307800</td>\n",
       "      <td>53.000000</td>\n",
       "      <td>2.000000</td>\n",
       "      <td>0.000000</td>\n",
       "    </tr>\n",
       "    <tr>\n",
       "      <th>50%</th>\n",
       "      <td>26.000000</td>\n",
       "      <td>167.000000</td>\n",
       "      <td>32.300000</td>\n",
       "      <td>72.000000</td>\n",
       "      <td>45.000000</td>\n",
       "      <td>0.444300</td>\n",
       "      <td>53.000000</td>\n",
       "      <td>3.000000</td>\n",
       "      <td>0.000000</td>\n",
       "    </tr>\n",
       "    <tr>\n",
       "      <th>75%</th>\n",
       "      <td>38.000000</td>\n",
       "      <td>192.000000</td>\n",
       "      <td>36.600000</td>\n",
       "      <td>80.000000</td>\n",
       "      <td>130.500000</td>\n",
       "      <td>0.699800</td>\n",
       "      <td>62.000000</td>\n",
       "      <td>6.000000</td>\n",
       "      <td>1.000000</td>\n",
       "    </tr>\n",
       "    <tr>\n",
       "      <th>max</th>\n",
       "      <td>66.000000</td>\n",
       "      <td>308.000000</td>\n",
       "      <td>86.100000</td>\n",
       "      <td>157.000000</td>\n",
       "      <td>1077.000000</td>\n",
       "      <td>3.481300</td>\n",
       "      <td>214.000000</td>\n",
       "      <td>40.000000</td>\n",
       "      <td>1.000000</td>\n",
       "    </tr>\n",
       "  </tbody>\n",
       "</table>\n",
       "</div>"
      ],
      "text/plain": [
       "              age      weight         bmi  blood_pressure  insulin_test  \\\n",
       "count  788.000000  788.000000  788.000000      788.000000    788.000000   \n",
       "mean    30.111675  172.445431   32.720685       72.634518    107.200508   \n",
       "std     11.539456   31.698882    7.672735       13.241801    114.190273   \n",
       "min     18.000000   94.000000   18.200000       24.000000     14.000000   \n",
       "25%     21.000000  150.000000   27.600000       64.000000     45.000000   \n",
       "50%     26.000000  167.000000   32.300000       72.000000     45.000000   \n",
       "75%     38.000000  192.000000   36.600000       80.000000    130.500000   \n",
       "max     66.000000  308.000000   86.100000      157.000000   1077.000000   \n",
       "\n",
       "       liver_stress_test  cardio_stress_test  years_smoking  zeta_disease  \n",
       "count         788.000000          788.000000     788.000000    788.000000  \n",
       "mean            0.543029           58.237310       4.489848      0.350254  \n",
       "std             0.347677           14.142343       3.880836      0.477352  \n",
       "min             0.140800           37.000000       1.000000      0.000000  \n",
       "25%             0.307800           53.000000       2.000000      0.000000  \n",
       "50%             0.444300           53.000000       3.000000      0.000000  \n",
       "75%             0.699800           62.000000       6.000000      1.000000  \n",
       "max             3.481300          214.000000      40.000000      1.000000  "
      ]
     },
     "execution_count": 20,
     "metadata": {},
     "output_type": "execute_result"
    }
   ],
   "source": [
    "df_new2.describe()"
   ]
  },
  {
   "cell_type": "code",
   "execution_count": 21,
   "metadata": {},
   "outputs": [],
   "source": [
    "df = df_new2"
   ]
  },
  {
   "cell_type": "code",
   "execution_count": 22,
   "metadata": {},
   "outputs": [
    {
     "data": {
      "text/html": [
       "<div>\n",
       "<style scoped>\n",
       "    .dataframe tbody tr th:only-of-type {\n",
       "        vertical-align: middle;\n",
       "    }\n",
       "\n",
       "    .dataframe tbody tr th {\n",
       "        vertical-align: top;\n",
       "    }\n",
       "\n",
       "    .dataframe thead th {\n",
       "        text-align: right;\n",
       "    }\n",
       "</style>\n",
       "<table border=\"1\" class=\"dataframe\">\n",
       "  <thead>\n",
       "    <tr style=\"text-align: right;\">\n",
       "      <th></th>\n",
       "      <th>age</th>\n",
       "      <th>weight</th>\n",
       "      <th>bmi</th>\n",
       "      <th>blood_pressure</th>\n",
       "      <th>insulin_test</th>\n",
       "      <th>liver_stress_test</th>\n",
       "      <th>cardio_stress_test</th>\n",
       "      <th>years_smoking</th>\n",
       "      <th>zeta_disease</th>\n",
       "    </tr>\n",
       "  </thead>\n",
       "  <tbody>\n",
       "    <tr>\n",
       "      <th>age</th>\n",
       "      <td>1.000000</td>\n",
       "      <td>0.239218</td>\n",
       "      <td>0.077393</td>\n",
       "      <td>0.277942</td>\n",
       "      <td>0.005727</td>\n",
       "      <td>0.033627</td>\n",
       "      <td>0.051802</td>\n",
       "      <td>0.439022</td>\n",
       "      <td>0.250324</td>\n",
       "    </tr>\n",
       "    <tr>\n",
       "      <th>weight</th>\n",
       "      <td>0.239218</td>\n",
       "      <td>1.000000</td>\n",
       "      <td>0.208008</td>\n",
       "      <td>0.159659</td>\n",
       "      <td>0.330176</td>\n",
       "      <td>0.139586</td>\n",
       "      <td>0.153952</td>\n",
       "      <td>0.105470</td>\n",
       "      <td>0.473280</td>\n",
       "    </tr>\n",
       "    <tr>\n",
       "      <th>bmi</th>\n",
       "      <td>0.077393</td>\n",
       "      <td>0.208008</td>\n",
       "      <td>1.000000</td>\n",
       "      <td>0.210615</td>\n",
       "      <td>0.206515</td>\n",
       "      <td>0.124604</td>\n",
       "      <td>0.326886</td>\n",
       "      <td>0.062179</td>\n",
       "      <td>0.278855</td>\n",
       "    </tr>\n",
       "    <tr>\n",
       "      <th>blood_pressure</th>\n",
       "      <td>0.277942</td>\n",
       "      <td>0.159659</td>\n",
       "      <td>0.210615</td>\n",
       "      <td>1.000000</td>\n",
       "      <td>-0.021587</td>\n",
       "      <td>0.005409</td>\n",
       "      <td>0.104520</td>\n",
       "      <td>0.133720</td>\n",
       "      <td>0.119380</td>\n",
       "    </tr>\n",
       "    <tr>\n",
       "      <th>insulin_test</th>\n",
       "      <td>0.005727</td>\n",
       "      <td>0.330176</td>\n",
       "      <td>0.206515</td>\n",
       "      <td>-0.021587</td>\n",
       "      <td>1.000000</td>\n",
       "      <td>0.159318</td>\n",
       "      <td>0.157855</td>\n",
       "      <td>0.014668</td>\n",
       "      <td>0.145451</td>\n",
       "    </tr>\n",
       "    <tr>\n",
       "      <th>liver_stress_test</th>\n",
       "      <td>0.033627</td>\n",
       "      <td>0.139586</td>\n",
       "      <td>0.124604</td>\n",
       "      <td>0.005409</td>\n",
       "      <td>0.159318</td>\n",
       "      <td>1.000000</td>\n",
       "      <td>0.100605</td>\n",
       "      <td>0.026634</td>\n",
       "      <td>0.179569</td>\n",
       "    </tr>\n",
       "    <tr>\n",
       "      <th>cardio_stress_test</th>\n",
       "      <td>0.051802</td>\n",
       "      <td>0.153952</td>\n",
       "      <td>0.326886</td>\n",
       "      <td>0.104520</td>\n",
       "      <td>0.157855</td>\n",
       "      <td>0.100605</td>\n",
       "      <td>1.000000</td>\n",
       "      <td>-0.017053</td>\n",
       "      <td>0.164787</td>\n",
       "    </tr>\n",
       "    <tr>\n",
       "      <th>years_smoking</th>\n",
       "      <td>0.439022</td>\n",
       "      <td>0.105470</td>\n",
       "      <td>0.062179</td>\n",
       "      <td>0.133720</td>\n",
       "      <td>0.014668</td>\n",
       "      <td>0.026634</td>\n",
       "      <td>-0.017053</td>\n",
       "      <td>1.000000</td>\n",
       "      <td>0.200833</td>\n",
       "    </tr>\n",
       "    <tr>\n",
       "      <th>zeta_disease</th>\n",
       "      <td>0.250324</td>\n",
       "      <td>0.473280</td>\n",
       "      <td>0.278855</td>\n",
       "      <td>0.119380</td>\n",
       "      <td>0.145451</td>\n",
       "      <td>0.179569</td>\n",
       "      <td>0.164787</td>\n",
       "      <td>0.200833</td>\n",
       "      <td>1.000000</td>\n",
       "    </tr>\n",
       "  </tbody>\n",
       "</table>\n",
       "</div>"
      ],
      "text/plain": [
       "                         age    weight       bmi  blood_pressure  \\\n",
       "age                 1.000000  0.239218  0.077393        0.277942   \n",
       "weight              0.239218  1.000000  0.208008        0.159659   \n",
       "bmi                 0.077393  0.208008  1.000000        0.210615   \n",
       "blood_pressure      0.277942  0.159659  0.210615        1.000000   \n",
       "insulin_test        0.005727  0.330176  0.206515       -0.021587   \n",
       "liver_stress_test   0.033627  0.139586  0.124604        0.005409   \n",
       "cardio_stress_test  0.051802  0.153952  0.326886        0.104520   \n",
       "years_smoking       0.439022  0.105470  0.062179        0.133720   \n",
       "zeta_disease        0.250324  0.473280  0.278855        0.119380   \n",
       "\n",
       "                    insulin_test  liver_stress_test  cardio_stress_test  \\\n",
       "age                     0.005727           0.033627            0.051802   \n",
       "weight                  0.330176           0.139586            0.153952   \n",
       "bmi                     0.206515           0.124604            0.326886   \n",
       "blood_pressure         -0.021587           0.005409            0.104520   \n",
       "insulin_test            1.000000           0.159318            0.157855   \n",
       "liver_stress_test       0.159318           1.000000            0.100605   \n",
       "cardio_stress_test      0.157855           0.100605            1.000000   \n",
       "years_smoking           0.014668           0.026634           -0.017053   \n",
       "zeta_disease            0.145451           0.179569            0.164787   \n",
       "\n",
       "                    years_smoking  zeta_disease  \n",
       "age                      0.439022      0.250324  \n",
       "weight                   0.105470      0.473280  \n",
       "bmi                      0.062179      0.278855  \n",
       "blood_pressure           0.133720      0.119380  \n",
       "insulin_test             0.014668      0.145451  \n",
       "liver_stress_test        0.026634      0.179569  \n",
       "cardio_stress_test      -0.017053      0.164787  \n",
       "years_smoking            1.000000      0.200833  \n",
       "zeta_disease             0.200833      1.000000  "
      ]
     },
     "execution_count": 22,
     "metadata": {},
     "output_type": "execute_result"
    }
   ],
   "source": [
    "correlation  = df.corr()\n",
    "correlation"
   ]
  },
  {
   "cell_type": "code",
   "execution_count": 23,
   "metadata": {},
   "outputs": [
    {
     "data": {
      "text/plain": [
       "<AxesSubplot:>"
      ]
     },
     "execution_count": 23,
     "metadata": {},
     "output_type": "execute_result"
    },
    {
     "data": {
      "image/png": "[encoded data removed]",
      "text/plain": [
       "<Figure size 432x288 with 2 Axes>"
      ]
     },
     "metadata": {
      "needs_background": "light"
     },
     "output_type": "display_data"
    }
   ],
   "source": [
    "#Find correlation between the numerical variables\n",
    "sns.heatmap(df.corr(), annot = True,square=True)\n",
    "#Most of the values are medium correlated with each other "
   ]
  },
  {
   "cell_type": "code",
   "execution_count": 24,
   "metadata": {},
   "outputs": [
    {
     "name": "stdout",
     "output_type": "stream",
     "text": [
      "['age', 'weight', 'bmi', 'blood_pressure', 'insulin_test', 'liver_stress_test', 'cardio_stress_test', 'years_smoking', 'zeta_disease']\n"
     ]
    }
   ],
   "source": [
    "columns_list = list(df.columns)\n",
    "print(columns_list)"
   ]
  },
  {
   "cell_type": "code",
   "execution_count": 25,
   "metadata": {},
   "outputs": [
    {
     "name": "stdout",
     "output_type": "stream",
     "text": [
      "['years_smoking', 'liver_stress_test', 'bmi', 'cardio_stress_test', 'weight', 'blood_pressure', 'insulin_test', 'age']\n"
     ]
    }
   ],
   "source": [
    "Independent_Features = list(set(columns_list)-set(['zeta_disease']))\n",
    "print(Independent_Features)"
   ]
  },
  {
   "cell_type": "code",
   "execution_count": 26,
   "metadata": {},
   "outputs": [],
   "source": [
    "#Independent Variable\n",
    "x= df[Independent_Features].values"
   ]
  },
  {
   "cell_type": "code",
   "execution_count": 27,
   "metadata": {},
   "outputs": [],
   "source": [
    "#Target Variable\n",
    "y=df['zeta_disease'].values"
   ]
  },
  {
   "cell_type": "code",
   "execution_count": 28,
   "metadata": {},
   "outputs": [
    {
     "data": {
      "text/plain": [
       "array([[-0.53846154, -0.1839545 , -0.73784978, ..., -0.15789474,\n",
       "        -0.94167451,  0.5       ],\n",
       "       [-0.94871795, -0.85271666, -0.40206186, ..., -0.33834586,\n",
       "        -0.89275635, -0.79166667],\n",
       "       [-0.69230769, -0.92096991, -0.65537555, ..., -0.0075188 ,\n",
       "        -0.94167451,  0.20833333],\n",
       "       ...,\n",
       "       [-0.74358974, -0.90001497, -0.54344624, ..., -0.45864662,\n",
       "        -0.94167451, -0.20833333],\n",
       "       [-0.79487179, -0.92635833, -0.7820324 , ..., -0.2481203 ,\n",
       "        -0.94167451, -0.625     ],\n",
       "       [-1.        , -0.70902559, -0.66126657, ..., -0.51879699,\n",
       "        -0.94167451, -0.66666667]])"
      ]
     },
     "execution_count": 28,
     "metadata": {},
     "output_type": "execute_result"
    }
   ],
   "source": [
    "#Rescaling the data or Feature scaling for better results\n",
    "scaler=MinMaxScaler((-1,1))\n",
    "x=scaler.fit_transform(x)\n",
    "x"
   ]
  },
  {
   "cell_type": "code",
   "execution_count": 29,
   "metadata": {},
   "outputs": [],
   "source": [
    "#Split the dataset\n",
    "seed = 7\n",
    "test_size = 0.33\n",
    "x_train, x_test, y_train, y_test = train_test_split(x, y, test_size=test_size,random_state=seed)"
   ]
  },
  {
   "cell_type": "code",
   "execution_count": 30,
   "metadata": {},
   "outputs": [
    {
     "name": "stdout",
     "output_type": "stream",
     "text": [
      "[13:02:45] WARNING: C:/Users/Administrator/workspace/xgboost-win64_release_1.3.0/src/learner.cc:1061: Starting in XGBoost 1.3.0, the default evaluation metric used with the objective 'binary:logistic' was changed from 'error' to 'logloss'. Explicitly set eval_metric if you'd like to restore the old behavior.\n"
     ]
    },
    {
     "name": "stderr",
     "output_type": "stream",
     "text": [
      "C:\\Users\\91829\\anaconda3\\lib\\site-packages\\xgboost\\sklearn.py:888: UserWarning: The use of label encoder in XGBClassifier is deprecated and will be removed in a future release. To remove this warning, do the following: 1) Pass option use_label_encoder=False when constructing XGBClassifier object; and 2) Encode your labels (y) as integers starting with 0, i.e. 0, 1, 2, ..., [num_class - 1].\n",
      "  warnings.warn(label_encoder_deprecation_msg, UserWarning)\n"
     ]
    },
    {
     "data": {
      "text/plain": [
       "XGBClassifier(base_score=0.5, booster='gbtree', colsample_bylevel=1,\n",
       "              colsample_bynode=1, colsample_bytree=1, gamma=0, gpu_id=-1,\n",
       "              importance_type='gain', interaction_constraints='',\n",
       "              learning_rate=0.300000012, max_delta_step=0, max_depth=6,\n",
       "              min_child_weight=1, missing=nan, monotone_constraints='()',\n",
       "              n_estimators=100, n_jobs=8, num_parallel_tree=1, random_state=0,\n",
       "              reg_alpha=0, reg_lambda=1, scale_pos_weight=1, subsample=1,\n",
       "              tree_method='exact', validate_parameters=1, verbosity=None)"
      ]
     },
     "execution_count": 30,
     "metadata": {},
     "output_type": "execute_result"
    }
   ],
   "source": [
    "# fit model on training data\n",
    "model = XGBClassifier()\n",
    "model.fit(x_train, y_train)"
   ]
  },
  {
   "cell_type": "code",
   "execution_count": 31,
   "metadata": {},
   "outputs": [],
   "source": [
    "# Run model on test data\n",
    "predictions = model.predict(x_test)"
   ]
  },
  {
   "cell_type": "code",
   "execution_count": 32,
   "metadata": {},
   "outputs": [
    {
     "name": "stdout",
     "output_type": "stream",
     "text": [
      "Accuracy: 77.01%\n"
     ]
    }
   ],
   "source": [
    "# Evaluate the model accuracy\n",
    "accuracy = accuracy_score(y_test, predictions)\n",
    "print(\"Accuracy: %.2f%%\" % (accuracy * 100.0))"
   ]
  },
  {
   "cell_type": "code",
   "execution_count": 33,
   "metadata": {},
   "outputs": [
    {
     "name": "stdout",
     "output_type": "stream",
     "text": [
      "[[144  36]\n",
      " [ 24  57]]\n"
     ]
    }
   ],
   "source": [
    "print(confusion_matrix(y_test, predictions))"
   ]
  },
  {
   "cell_type": "code",
   "execution_count": 34,
   "metadata": {},
   "outputs": [],
   "source": [
    "#Now validate the model prediction on the new Prediction dataset.\n",
    "New_Df=pd.read_csv('Prediction_Data.csv')"
   ]
  },
  {
   "cell_type": "code",
   "execution_count": 35,
   "metadata": {},
   "outputs": [
    {
     "data": {
      "text/plain": [
       "Index(['age', 'weight', 'bmi', 'blood_pressure', 'insulin_test',\n",
       "       'liver_stress_test', 'cardio_stress_test', 'years_smoking',\n",
       "       'zeta_disease'],\n",
       "      dtype='object')"
      ]
     },
     "execution_count": 35,
     "metadata": {},
     "output_type": "execute_result"
    }
   ],
   "source": [
    "New_Df.columns"
   ]
  },
  {
   "cell_type": "code",
   "execution_count": 36,
   "metadata": {},
   "outputs": [],
   "source": [
    "input_feature=New_Df.loc[:,New_Df.columns!='zeta_disease'].values\n",
    "target_feature=New_Df.loc[:,'zeta_disease'].values"
   ]
  },
  {
   "cell_type": "code",
   "execution_count": 37,
   "metadata": {},
   "outputs": [],
   "source": [
    "predict = model.predict(input_feature)"
   ]
  },
  {
   "cell_type": "code",
   "execution_count": 38,
   "metadata": {},
   "outputs": [
    {
     "data": {
      "text/plain": [
       "array([1, 1, 1, 1, 1, 1, 1, 1, 1, 1, 1, 1, 1, 1, 1, 1, 1, 1, 1, 1],\n",
       "      dtype=int64)"
      ]
     },
     "execution_count": 38,
     "metadata": {},
     "output_type": "execute_result"
    }
   ],
   "source": [
    "predict"
   ]
  },
  {
   "cell_type": "code",
   "execution_count": 39,
   "metadata": {},
   "outputs": [],
   "source": [
    "#Conclusion : The model has predicted that all the patients in the prediction Dataset could get Disease."
   ]
  }
 ],
 "metadata": {
  "kernelspec": {
   "display_name": "Python 3",
   "language": "python",
   "name": "python3"
  },
  "language_info": {
   "codemirror_mode": {
    "name": "ipython",
    "version": 3
   },
   "file_extension": ".py",
   "mimetype": "text/x-python",
   "name": "python",
   "nbconvert_exporter": "python",
   "pygments_lexer": "ipython3",
   "version": "3.8.5"
  }
 },
 "nbformat": 4,
 "nbformat_minor": 4
}
